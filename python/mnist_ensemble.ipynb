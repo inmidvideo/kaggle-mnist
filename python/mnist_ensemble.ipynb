{
 "cells": [
  {
   "cell_type": "code",
   "execution_count": 138,
   "metadata": {
    "collapsed": false
   },
   "outputs": [
    {
     "name": "stdout",
     "output_type": "stream",
     "text": [
      "Populating the interactive namespace from numpy and matplotlib\n"
     ]
    },
    {
     "name": "stderr",
     "output_type": "stream",
     "text": [
      "WARNING: pylab import has clobbered these variables: ['clf']\n",
      "`%matplotlib` prevents importing * from pylab and numpy\n"
     ]
    }
   ],
   "source": [
    "%pylab inline\n",
    "import numpy as np\n",
    "from sklearn.cross_validation import train_test_split\n",
    "from sklearn.externals import joblib\n",
    "from sklearn.metrics import (precision_recall_fscore_support, classification_report)\n",
    "\n",
    "from sklearn import clone\n",
    "from sklearn.ensemble import (RandomForestClassifier, ExtraTreesClassifier, AdaBoostClassifier, GradientBoostingClassifier)\n",
    "from sklearn.tree import DecisionTreeClassifier\n",
    "from sklearn.naive_bayes import GaussianNB\n",
    "from sklearn.neighbors import KNeighborsClassifier"
   ]
  },
  {
   "cell_type": "code",
   "execution_count": 139,
   "metadata": {
    "collapsed": true
   },
   "outputs": [],
   "source": [
    "# load train and test data\n",
    "mnist_train = np.loadtxt('../data/train.csv', delimiter=',', dtype=int, skiprows=1)\n",
    "mnist_test = np.loadtxt('../data/test.csv', delimiter=',', dtype=int, skiprows=1)"
   ]
  },
  {
   "cell_type": "code",
   "execution_count": 141,
   "metadata": {
    "collapsed": false
   },
   "outputs": [],
   "source": [
    "# split the data into training and validation sets\n",
    "X_train, X_test, y_train, y_test = train_test_split(mnist_train[:,1:], mnist_train[:,0])"
   ]
  },
  {
   "cell_type": "code",
   "execution_count": 226,
   "metadata": {
    "collapsed": false
   },
   "outputs": [],
   "source": [
    "# parameters\n",
    "n = X_test.shape[1]\n",
    "m_test = mnist_test.shape[0]\n",
    "m = X_test.shape[0]\n",
    "l = 10\n",
    "\n",
    "n_neighbors = 5\n",
    "n_estimators = 500\n",
    "n_jobs = 3\n",
    "max_depth = None"
   ]
  },
  {
   "cell_type": "code",
   "execution_count": 228,
   "metadata": {
    "collapsed": false
   },
   "outputs": [],
   "source": [
    "# model list\n",
    "models = [#DecisionTreeClassifier(max_depth=max_depth),\n",
    "          RandomForestClassifier(n_estimators=n_estimators, n_jobs=n_jobs),\n",
    "          ExtraTreesClassifier(n_estimators=n_estimators, n_jobs=n_jobs),\n",
    "          #AdaBoostClassifier(DecisionTreeClassifier(max_depth=max_depth), n_estimators=n_estimators),\n",
    "          GradientBoostingClassifier(n_estimators=n_estimators),\n",
    "          #GaussianNB(),\n",
    "          #SVC(kernel='rbf'),\n",
    "          KNeighborsClassifier(n_neighbors=n_neighbors)]\n",
    "\n",
    "c = len(models)\n",
    "proba = np.empty((c, m_test, l), dtype=float64)\n",
    "f1 = np.empty((c, l), dtype=float64)"
   ]
  },
  {
   "cell_type": "code",
   "execution_count": null,
   "metadata": {
    "collapsed": false
   },
   "outputs": [],
   "source": [
    "# run models\n",
    "for i in range(c):\n",
    "    print i\n",
    "    clf = models[i]\n",
    "    clf.fit(X_train, y_train)\n",
    "\n",
    "    predict = clf.predict(X_test)\n",
    "    prfs = precision_recall_fscore_support(y_test, predict)\n",
    "    f1[i, :] = prfs[2]"
   ]
  },
  {
   "cell_type": "code",
   "execution_count": null,
   "metadata": {
    "collapsed": false
   },
   "outputs": [],
   "source": [
    "# generate prediction\n",
    "for i in range(c):\n",
    "    print i\n",
    "    clf = models[i]\n",
    "    clf.fit(mnist_train[:,1:], mnist_train[:,0])\n",
    "    \n",
    "    proba[i, :, :] = clf.predict_proba(mnist_test)"
   ]
  },
  {
   "cell_type": "code",
   "execution_count": null,
   "metadata": {
    "collapsed": false
   },
   "outputs": [],
   "source": [
    "# sum total\n",
    "predicted = np.empty(m_test, dtype=int)\n",
    "s = numpy.zeros((m_test, l), dtype=float64)\n",
    "\n",
    "for i in range(m_test):\n",
    "    for j in range(c):\n",
    "        s[i, :] += f1[j, :]*proba[j, i, :]\n",
    "    predicted[i] = np.argmax(s[i, :])"
   ]
  },
  {
   "cell_type": "code",
   "execution_count": null,
   "metadata": {
    "collapsed": true
   },
   "outputs": [],
   "source": [
    "# write to file\n",
    "with open(\"predicted_ensemble.txt\", 'w') as f:\n",
    "    f.write('ImageId,Label\\n')\n",
    "    for i in range(len(predicted)):\n",
    "        f.write(str(i + 1) + ',' + str(int(predicted[i])) + '\\n')"
   ]
  },
  {
   "cell_type": "code",
   "execution_count": 227,
   "metadata": {
    "collapsed": false
   },
   "outputs": [
    {
     "data": {
      "text/plain": [
       "array([[ 0.91577928,  0.92262895,  0.84784785,  0.83544304,  0.85056391,\n",
       "         0.82261411,  0.9079334 ,  0.88299817,  0.76313181,  0.82152714],\n",
       "       [ 0.97799043,  0.9821883 ,  0.95585413,  0.96676163,  0.97084548,\n",
       "         0.96890672,  0.97502402,  0.98018868,  0.94666667,  0.93883225],\n",
       "       [ 0.97894737,  0.98559322,  0.96435453,  0.9677113 ,  0.97187197,\n",
       "         0.96603397,  0.97971014,  0.98207547,  0.95081967,  0.93894542],\n",
       "       [ 0.92285156,  0.91826522,  0.82761998,  0.81967213,  0.84170616,\n",
       "         0.81230448,  0.88472622,  0.88592456,  0.77116935,  0.81382488],\n",
       "       [ 0.97398844,  0.97884941,  0.95472062,  0.96761905,  0.95450237,\n",
       "         0.96076459,  0.97368421,  0.9782197 ,  0.95790554,  0.94388224],\n",
       "       [ 0.69767442,  0.72920696,  0.89867841,  0.6875    ,  0.80357143,\n",
       "         0.43661972,  0.57319953,  0.89776358,  0.24696545,  0.37259259],\n",
       "       [ 0.97634816,  0.95588235,  0.98308458,  0.96299722,  0.98219585,\n",
       "         0.95383104,  0.98449612,  0.9637883 ,  0.98346196,  0.9375    ]])"
      ]
     },
     "execution_count": 227,
     "metadata": {},
     "output_type": "execute_result"
    }
   ],
   "source": []
  },
  {
   "cell_type": "code",
   "execution_count": null,
   "metadata": {
    "collapsed": true
   },
   "outputs": [],
   "source": []
  }
 ],
 "metadata": {
  "kernelspec": {
   "display_name": "Python 2",
   "language": "python",
   "name": "python2"
  },
  "language_info": {
   "codemirror_mode": {
    "name": "ipython",
    "version": 2
   },
   "file_extension": ".py",
   "mimetype": "text/x-python",
   "name": "python",
   "nbconvert_exporter": "python",
   "pygments_lexer": "ipython2",
   "version": "2.7.9"
  }
 },
 "nbformat": 4,
 "nbformat_minor": 0
}
