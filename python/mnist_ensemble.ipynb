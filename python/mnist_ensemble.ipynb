{
 "cells": [
  {
   "cell_type": "code",
   "execution_count": 138,
   "metadata": {
    "collapsed": false
   },
   "outputs": [
    {
     "name": "stdout",
     "output_type": "stream",
     "text": [
      "Populating the interactive namespace from numpy and matplotlib\n"
     ]
    },
    {
     "name": "stderr",
     "output_type": "stream",
     "text": [
      "WARNING: pylab import has clobbered these variables: ['clf']\n",
      "`%matplotlib` prevents importing * from pylab and numpy\n"
     ]
    }
   ],
   "source": [
    "%pylab inline\n",
    "import numpy as np\n",
    "from sklearn.cross_validation import train_test_split\n",
    "from sklearn.externals import joblib\n",
    "from sklearn.metrics import (precision_recall_fscore_support, classification_report)\n",
    "\n",
    "from sklearn import clone\n",
    "from sklearn.ensemble import (RandomForestClassifier, ExtraTreesClassifier, AdaBoostClassifier, GradientBoostingClassifier)\n",
    "from sklearn.tree import DecisionTreeClassifier\n",
    "from sklearn.naive_bayes import GaussianNB\n",
    "from sklearn.neighbors import KNeighborsClassifier"
   ]
  },
  {
   "cell_type": "code",
   "execution_count": 139,
   "metadata": {
    "collapsed": true
   },
   "outputs": [],
   "source": [
    "# load train and test data\n",
    "mnist_train = np.loadtxt('../data/train.csv', delimiter=',', dtype=int, skiprows=1)\n",
    "mnist_test = np.loadtxt('../data/test.csv', delimiter=',', dtype=int, skiprows=1)"
   ]
  },
  {
   "cell_type": "code",
   "execution_count": 141,
   "metadata": {
    "collapsed": false
   },
   "outputs": [],
   "source": [
    "# split the data into training and validation sets\n",
    "X_train, X_test, y_train, y_test = train_test_split(mnist_train[:,1:], mnist_train[:,0])"
   ]
  },
  {
   "cell_type": "code",
   "execution_count": 209,
   "metadata": {
    "collapsed": false
   },
   "outputs": [],
   "source": [
    "# parameters\n",
    "n = X_test.shape[1]\n",
    "m_test = mnist_test.shape[0]\n",
    "m = X_test.shape[0]\n",
    "l = 10\n",
    "\n",
    "n_neighbors = 5\n",
    "n_estimators = 500\n",
    "n_jobs = 3\n",
    "max_depth = None"
   ]
  },
  {
   "cell_type": "code",
   "execution_count": 210,
   "metadata": {
    "collapsed": false
   },
   "outputs": [],
   "source": [
    "# model list\n",
    "models = [DecisionTreeClassifier(max_depth=max_depth),\n",
    "          RandomForestClassifier(n_estimators=n_estimators, n_jobs=n_jobs),\n",
    "          ExtraTreesClassifier(n_estimators=n_estimators, n_jobs=n_jobs),\n",
    "          AdaBoostClassifier(DecisionTreeClassifier(max_depth=max_depth), n_estimators=n_estimators),\n",
    "          GradientBoostingClassifier(n_estimators=n_estimators),\n",
    "          GaussianNB(),\n",
    "          #SVC(kernel='rbf'),\n",
    "          KNeighborsClassifier(n_neighbors=n_neighbors)]\n",
    "\n",
    "c = len(models)\n",
    "proba = np.empty((c, m_test, l), dtype=float64)\n",
    "precision = np.empty((c, l), dtype=float64)"
   ]
  },
  {
   "cell_type": "code",
   "execution_count": 211,
   "metadata": {
    "collapsed": false
   },
   "outputs": [
    {
     "name": "stdout",
     "output_type": "stream",
     "text": [
      "0\n",
      "1\n",
      "2\n",
      "3\n",
      "4\n",
      "5\n",
      "6\n"
     ]
    }
   ],
   "source": [
    "# run models\n",
    "for i in range(c):\n",
    "    print i\n",
    "    clf = models[i]\n",
    "    clf.fit(X_train, y_train)\n",
    "\n",
    "    predict = clf.predict(X_test)\n",
    "    prfs = precision_recall_fscore_support(y_test, predict)\n",
    "    precision[i, :] = prfs[0]"
   ]
  },
  {
   "cell_type": "code",
   "execution_count": 212,
   "metadata": {
    "collapsed": false
   },
   "outputs": [
    {
     "name": "stdout",
     "output_type": "stream",
     "text": [
      "0\n",
      "1\n",
      "2\n",
      "3\n",
      "4\n",
      "5\n",
      "6\n"
     ]
    }
   ],
   "source": [
    "# generate prediction\n",
    "for i in range(c):\n",
    "    print i\n",
    "    clf = models[i]\n",
    "    clf.fit(mnist_train[:,1:], mnist_train[:,0])\n",
    "    \n",
    "    proba[i, :, :] = clf.predict_proba(mnist_test)"
   ]
  },
  {
   "cell_type": "code",
   "execution_count": 224,
   "metadata": {
    "collapsed": false
   },
   "outputs": [],
   "source": [
    "# sum total\n",
    "predicted = np.empty(m_test, dtype=int)\n",
    "s = numpy.zeros((m_test, l), dtype=float64)\n",
    "\n",
    "for i in range(m_test):\n",
    "    for j in range(c):\n",
    "        s[i, :] += precision[j, :]*proba[j, i, :]\n",
    "    predicted[i] = np.argmax(s[i, :])"
   ]
  },
  {
   "cell_type": "code",
   "execution_count": 225,
   "metadata": {
    "collapsed": true
   },
   "outputs": [],
   "source": [
    "# write to file\n",
    "with open(\"predicted_ensemble.txt\", 'w') as f:\n",
    "    f.write('ImageId,Label\\n')\n",
    "    for i in range(len(predicted)):\n",
    "        f.write(str(i + 1) + ',' + str(int(predicted[i])) + '\\n')"
   ]
  },
  {
   "cell_type": "code",
   "execution_count": null,
   "metadata": {
    "collapsed": false
   },
   "outputs": [],
   "source": []
  },
  {
   "cell_type": "code",
   "execution_count": null,
   "metadata": {
    "collapsed": true
   },
   "outputs": [],
   "source": []
  }
 ],
 "metadata": {
  "kernelspec": {
   "display_name": "Python 2",
   "language": "python",
   "name": "python2"
  },
  "language_info": {
   "codemirror_mode": {
    "name": "ipython",
    "version": 2
   },
   "file_extension": ".py",
   "mimetype": "text/x-python",
   "name": "python",
   "nbconvert_exporter": "python",
   "pygments_lexer": "ipython2",
   "version": "2.7.9"
  }
 },
 "nbformat": 4,
 "nbformat_minor": 0
}
