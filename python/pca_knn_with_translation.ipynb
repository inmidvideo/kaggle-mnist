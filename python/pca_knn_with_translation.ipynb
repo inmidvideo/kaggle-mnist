{
 "cells": [
  {
   "cell_type": "code",
   "execution_count": 1,
   "metadata": {
    "collapsed": false
   },
   "outputs": [
    {
     "name": "stdout",
     "output_type": "stream",
     "text": [
      "2015-04-30 13:25:40 clock set\n"
     ]
    }
   ],
   "source": [
    "from time import strftime\n",
    "import numpy as np\n",
    "import matplotlib.pyplot as plt\n",
    "from sklearn import cross_validation, metrics, decomposition, neighbors\n",
    "print strftime(\"%Y-%m-%d %X\"), \"clock set\""
   ]
  },
  {
   "cell_type": "code",
   "execution_count": 28,
   "metadata": {
    "collapsed": false
   },
   "outputs": [
    {
     "name": "stdout",
     "output_type": "stream",
     "text": [
      "2015-04-30 13:37:28 given data loaded\n",
      "2015-04-30 13:37:52 testing data loaded\n",
      "42000\n"
     ]
    }
   ],
   "source": [
    "# load X_given and y_given\n",
    "with open('../data/train.csv') as f:\n",
    "    given_csv = f.readlines()\n",
    "    # number of columns in each row is 1 + 28^2 = 1 + 784\n",
    "    given_csv = [np.array(map(int, x.split(','))) for x in given_csv[1:]]\n",
    "    X_given = [x[1:] for x in given_csv]\n",
    "    y_given = [x[0] for x in given_csv]\n",
    "print strftime(\"%Y-%m-%d %X\"), \"given data loaded\"\n",
    "\n",
    "# load X_test\n",
    "with open('../data/test.csv') as f:\n",
    "    test_csv = f.readlines()\n",
    "    # number of columns in each row is 28^2 = 784\n",
    "    X_test = [np.array(map(int, x.split(','))) for x in test_csv[1:]]\n",
    "print strftime(\"%Y-%m-%d %X\"), \"testing data loaded\"\n",
    "\n",
    "print len(X_given)"
   ]
  },
  {
   "cell_type": "code",
   "execution_count": 43,
   "metadata": {
    "collapsed": false
   },
   "outputs": [
    {
     "name": "stdout",
     "output_type": "stream",
     "text": [
      "2015-04-30 17:04:37 cross-validation loaded\n"
     ]
    }
   ],
   "source": [
    "# X_given = X_given[0:20000] # reduce data for tests\n",
    "# y_given = y_given[0:20000]\n",
    "\n",
    "X_train, X_validate, y_train, y_validate = cross_validation.train_test_split(X_given, y_given, test_size=0.1, random_state=0)\n",
    "print strftime(\"%Y-%m-%d %X\"), \"cross-validation loaded\""
   ]
  },
  {
   "cell_type": "code",
   "execution_count": 44,
   "metadata": {
    "collapsed": false
   },
   "outputs": [],
   "source": [
    "# pca65 = decomposition.RandomizedPCA(n_components=65, whiten=False)\n",
    "# X_transform65 = pca65.fit_transform(X_train)\n",
    "# print strftime(\"%Y-%m-%d %X\"), \"PCA finished\"\n",
    "# knn1 = neighbors.KNeighborsClassifier(n_neighbors=1)\n",
    "# knn1.fit(X_transform65, y_train)\n",
    "# print strftime(\"%Y-%m-%d %X\"), \"knn finished\""
   ]
  },
  {
   "cell_type": "code",
   "execution_count": 45,
   "metadata": {
    "collapsed": false
   },
   "outputs": [],
   "source": [
    "# z = knn1.predict(pca65.transform(X_validate))\n",
    "# print metrics.accuracy_score(y_validate, z)\n",
    "# print strftime(\"%Y-%m-%d %X\"), \"finished scoring\""
   ]
  },
  {
   "cell_type": "code",
   "execution_count": 69,
   "metadata": {
    "collapsed": false
   },
   "outputs": [
    {
     "name": "stdout",
     "output_type": "stream",
     "text": [
      "2015-04-30 19:24:06 added shift left data\n",
      "2015-04-30 19:24:18 added shift right data\n"
     ]
    }
   ],
   "source": [
    "X_train_expanded2 = list(X_train)\n",
    "y_train_expanded2 = list(y_train)\n",
    "# X_train_expanded2 += (np.reshape([list(row[1:28]) + [0] for row in np.reshape(i, [28, 28])], 28*28) for i in X_train)\n",
    "# y_train_expanded2 += y_train\n",
    "# print strftime(\"%Y-%m-%d %X\"), \"added shift left data\"\n",
    "# X_train_expanded2 += (np.reshape([[0] + list(row[0:27]) for row in np.reshape(i, [28, 28])], 28*28) for i in X_train)\n",
    "# y_train_expanded2 += y_train\n",
    "# print strftime(\"%Y-%m-%d %X\"), \"added shift right data\"\n",
    "\n",
    "# shift by 2 instead of 1:\n",
    "X_train_expanded2 += (np.reshape([list(row[2:28]) + [0, 0] for row in np.reshape(i, [28, 28])], 28*28) for i in X_train)\n",
    "y_train_expanded2 += y_train\n",
    "print strftime(\"%Y-%m-%d %X\"), \"added shift left data\"\n",
    "X_train_expanded2 += (np.reshape([[0, 0] + list(row[0:26]) for row in np.reshape(i, [28, 28])], 28*28) for i in X_train)\n",
    "y_train_expanded2 += y_train\n",
    "print strftime(\"%Y-%m-%d %X\"), \"added shift right data\"\n",
    "# /shift by 2 instead of 1:\n"
   ]
  },
  {
   "cell_type": "code",
   "execution_count": 80,
   "metadata": {
    "collapsed": false
   },
   "outputs": [
    {
     "name": "stdout",
     "output_type": "stream",
     "text": [
      "2015-04-30 19:30:47 added shift up data\n",
      "2015-04-30 19:30:47 added shift down data\n"
     ]
    }
   ],
   "source": [
    "X_train_expanded4 = list(X_train_expanded2)\n",
    "y_train_expanded4 = list(y_train_expanded2)\n",
    "\n",
    "# had two typos.\n",
    "# X_train_shift_up = [np.reshape(np.concatenate([np.reshape(i, [28, 28])[1:28], [np.array([0] * 28)]]), -1) for i in X_train]\n",
    "# X_train_shift_down = [np.reshape(np.concatenate([[np.array([0] * 28)], np.reshape(i, [28, 28])[0:27]]), -1) for i in X_train]\n",
    "\n",
    "# X_train_expanded4 += X_train_shift_up\n",
    "# y_train_expanded4 += y_train\n",
    "# print strftime(\"%Y-%m-%d %X\"), \"added shift up data\"\n",
    "# X_train_expanded4 += X_train_shift_down\n",
    "# y_train_expanded4 += y_train\n",
    "# print strftime(\"%Y-%m-%d %X\"), \"added shift down data\"\n",
    "\n",
    "# shift by 2 instead of 1:\n",
    "X_train_shift_up = [np.reshape(np.concatenate([np.reshape(i, [28, 28])[2:28], [np.array([0] * 28)] * 2]), -1) for i in X_train]\n",
    "X_train_shift_down = [np.reshape(np.concatenate([[np.array([0] * 28)] * 2, np.reshape(i, [28, 28])[0:26]]), -1) for i in X_train]\n",
    "\n",
    "X_train_expanded4 += X_train_shift_up\n",
    "y_train_expanded4 += y_train\n",
    "print strftime(\"%Y-%m-%d %X\"), \"added shift up data\"\n",
    "X_train_expanded4 += X_train_shift_down\n",
    "y_train_expanded4 += y_train\n",
    "print strftime(\"%Y-%m-%d %X\"), \"added shift down data\"\n",
    "# /shift by 2 instead of 1\n",
    "\n",
    "# X_train_expanded8 = list(X_train_expanded4)\n",
    "# y_train_expanded8 = list(y_train_expanded4)\n",
    "\n",
    "# X_train_expanded8 += (np.reshape([list(row[1:28]) + [0] for row in np.reshape(i, [28, 28])], 28*28) for i in X_train_shift_up)\n",
    "# y_train_expanded8 += y_train\n",
    "# print strftime(\"%Y-%m-%d %X\"), \"added shift left data\"\n",
    "# X_train_expanded8 += (np.reshape([[0] + list(row[0:27]) for row in np.reshape(i, [28, 28])], 28*28) for i in X_train_shift_up)\n",
    "# y_train_expanded8 += y_train\n",
    "# print strftime(\"%Y-%m-%d %X\"), \"added shift right data\"\n",
    "\n",
    "# X_train_expanded8 += (np.reshape([list(row[1:28]) + [0] for row in np.reshape(i, [28, 28])], 28*28) for i in X_train_shift_down)\n",
    "# y_train_expanded8 += y_train\n",
    "# print strftime(\"%Y-%m-%d %X\"), \"added shift left data\"\n",
    "# X_train_expanded8 += (np.reshape([[0] + list(row[0:27]) for row in np.reshape(i, [28, 28])], 28*28) for i in X_train_shift_down)\n",
    "# y_train_expanded8 += y_train\n",
    "# print strftime(\"%Y-%m-%d %X\"), \"added shift right data\"\n"
   ]
  },
  {
   "cell_type": "code",
   "execution_count": 81,
   "metadata": {
    "collapsed": false
   },
   "outputs": [
    {
     "data": {
      "text/plain": [
       "(37800, 113400, 189000, 340200, 340200)"
      ]
     },
     "execution_count": 81,
     "metadata": {},
     "output_type": "execute_result"
    }
   ],
   "source": [
    "len(X_train), len(X_train_expanded2), len(X_train_expanded4), len(X_train_expanded8), len(y_train_expanded8)"
   ]
  },
  {
   "cell_type": "code",
   "execution_count": 66,
   "metadata": {
    "collapsed": false
   },
   "outputs": [
    {
     "name": "stdout",
     "output_type": "stream",
     "text": [
      "2015-04-30 19:17:10 PCA finished\n",
      "2015-04-30 19:17:10 knn finished\n",
      "0.968571428571\n",
      "2015-04-30 19:17:14 finished scoring\n"
     ]
    }
   ],
   "source": [
    "pca65 = decomposition.RandomizedPCA(n_components=25, whiten=False)\n",
    "X_transform65 = pca65.fit_transform(X_train)\n",
    "print strftime(\"%Y-%m-%d %X\"), \"PCA finished\"\n",
    "knn1 = neighbors.KNeighborsClassifier(n_neighbors=1)\n",
    "knn1.fit(X_transform65, y_train)\n",
    "print strftime(\"%Y-%m-%d %X\"), \"knn finished\"\n",
    "z = knn1.predict(pca65.transform(X_validate))\n",
    "print metrics.accuracy_score(y_validate, z)\n",
    "print strftime(\"%Y-%m-%d %X\"), \"finished scoring\""
   ]
  },
  {
   "cell_type": "code",
   "execution_count": 67,
   "metadata": {
    "collapsed": false
   },
   "outputs": [
    {
     "name": "stdout",
     "output_type": "stream",
     "text": [
      "2015-04-30 19:17:26 PCA finished\n",
      "2015-04-30 19:17:26 knn finished\n",
      "0.972380952381\n",
      "2015-04-30 19:17:36 finished scoring\n"
     ]
    }
   ],
   "source": [
    "pca65 = decomposition.RandomizedPCA(n_components=25, whiten=False)\n",
    "X_transform65 = pca65.fit_transform(X_train_expanded2)\n",
    "print strftime(\"%Y-%m-%d %X\"), \"PCA finished\"\n",
    "knn1 = neighbors.KNeighborsClassifier(n_neighbors=1)\n",
    "knn1.fit(X_transform65, y_train_expanded2)\n",
    "print strftime(\"%Y-%m-%d %X\"), \"knn finished\"\n",
    "z = knn1.predict(pca65.transform(X_validate))\n",
    "print metrics.accuracy_score(y_validate, z)\n",
    "print strftime(\"%Y-%m-%d %X\"), \"finished scoring\""
   ]
  },
  {
   "cell_type": "code",
   "execution_count": 83,
   "metadata": {
    "collapsed": false
   },
   "outputs": [
    {
     "name": "stdout",
     "output_type": "stream",
     "text": [
      "2015-04-30 19:33:32 PCA finished\n",
      "2015-04-30 19:33:35 knn finished\n",
      "0.974761904762\n",
      "2015-04-30 19:35:00 finished scoring\n"
     ]
    }
   ],
   "source": [
    "pca65 = decomposition.RandomizedPCA(n_components=65, whiten=False)\n",
    "X_transform65 = pca65.fit_transform(X_train_expanded4)\n",
    "print strftime(\"%Y-%m-%d %X\"), \"PCA finished\"\n",
    "knn1 = neighbors.KNeighborsClassifier(n_neighbors=1)\n",
    "knn1.fit(X_transform65, y_train_expanded4)\n",
    "print strftime(\"%Y-%m-%d %X\"), \"knn finished\"\n",
    "z = knn1.predict(pca65.transform(X_validate))\n",
    "print metrics.accuracy_score(y_validate, z)\n",
    "print strftime(\"%Y-%m-%d %X\"), \"finished scoring\""
   ]
  },
  {
   "cell_type": "code",
   "execution_count": 62,
   "metadata": {
    "collapsed": false
   },
   "outputs": [
    {
     "name": "stdout",
     "output_type": "stream",
     "text": [
      "2015-04-30 19:11:56 PCA finished\n",
      "2015-04-30 19:12:02 knn finished\n",
      "0.979761904762\n",
      "2015-04-30 19:12:49 finished scoring\n"
     ]
    }
   ],
   "source": [
    "pca65 = decomposition.RandomizedPCA(n_components=40, whiten=False)\n",
    "X_transform65 = pca65.fit_transform(X_train_expanded8)\n",
    "print strftime(\"%Y-%m-%d %X\"), \"PCA finished\"\n",
    "knn1 = neighbors.KNeighborsClassifier(n_neighbors=1)\n",
    "knn1.fit(X_transform65, y_train_expanded8)\n",
    "print strftime(\"%Y-%m-%d %X\"), \"knn finished\"\n",
    "z = knn1.predict(pca65.transform(X_validate))\n",
    "print metrics.accuracy_score(y_validate, z)\n",
    "print strftime(\"%Y-%m-%d %X\"), \"finished scoring\""
   ]
  },
  {
   "cell_type": "code",
   "execution_count": 36,
   "metadata": {
    "collapsed": false
   },
   "outputs": [
    {
     "name": "stdout",
     "output_type": "stream",
     "text": [
      "2015-04-30 13:54:21 predicted test data\n"
     ]
    }
   ],
   "source": [
    "z_test = knn1.predict(pca65.transform(X_test))\n",
    "print strftime(\"%Y-%m-%d %X\"), \"predicted test data\"\n"
   ]
  },
  {
   "cell_type": "code",
   "execution_count": 37,
   "metadata": {
    "collapsed": false
   },
   "outputs": [],
   "source": [
    "with open('pca_knn_with_translation_pca50.csv', 'w') as f:\n",
    "    f.write('ImageId,Label\\n')\n",
    "    for i in xrange(28000):\n",
    "        f.write(str(i+1) + ',' + str(z_test[i]) + '\\n')\n"
   ]
  },
  {
   "cell_type": "code",
   "execution_count": 50,
   "metadata": {
    "collapsed": false
   },
   "outputs": [
    {
     "data": {
      "text/plain": [
       "283500"
      ]
     },
     "execution_count": 50,
     "metadata": {},
     "output_type": "execute_result"
    }
   ],
   "source": [
    "len(X_train_expanded)"
   ]
  },
  {
   "cell_type": "code",
   "execution_count": null,
   "metadata": {
    "collapsed": true
   },
   "outputs": [],
   "source": []
  }
 ],
 "metadata": {
  "kernelspec": {
   "display_name": "Python 2",
   "language": "python",
   "name": "python2"
  },
  "language_info": {
   "codemirror_mode": {
    "name": "ipython",
    "version": 2
   },
   "file_extension": ".py",
   "mimetype": "text/x-python",
   "name": "python",
   "nbconvert_exporter": "python",
   "pygments_lexer": "ipython2",
   "version": "2.7.9"
  }
 },
 "nbformat": 4,
 "nbformat_minor": 0
}
