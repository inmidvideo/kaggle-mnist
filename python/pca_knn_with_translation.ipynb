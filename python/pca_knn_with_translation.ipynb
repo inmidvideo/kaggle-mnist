{
 "cells": [
  {
   "cell_type": "code",
   "execution_count": 37,
   "metadata": {
    "collapsed": false
   },
   "outputs": [
    {
     "name": "stdout",
     "output_type": "stream",
     "text": [
      "2015-05-01 00:12:10 clock set\n"
     ]
    }
   ],
   "source": [
    "from time import strftime\n",
    "import numpy as np\n",
    "import matplotlib.pyplot as plt\n",
    "from sklearn import cross_validation, metrics, decomposition, neighbors\n",
    "print strftime(\"%Y-%m-%d %X\"), \"clock set\""
   ]
  },
  {
   "cell_type": "code",
   "execution_count": 38,
   "metadata": {
    "collapsed": false
   },
   "outputs": [
    {
     "name": "stdout",
     "output_type": "stream",
     "text": [
      "2015-05-01 00:12:47 given data loaded\n",
      "2015-05-01 00:13:10 testing data loaded\n",
      "42000\n"
     ]
    }
   ],
   "source": [
    "# load X_given and y_given\n",
    "with open('../data/train.csv') as f:\n",
    "    given_csv = f.readlines()\n",
    "    # number of columns in each row is 1 + 28^2 = 1 + 784\n",
    "    given_csv = [np.array(map(int, x.split(','))) for x in given_csv[1:]]\n",
    "    X_given = [x[1:] for x in given_csv]\n",
    "    y_given = [x[0] for x in given_csv]\n",
    "print strftime(\"%Y-%m-%d %X\"), \"given data loaded\"\n",
    "\n",
    "# load X_test\n",
    "with open('../data/test.csv') as f:\n",
    "    test_csv = f.readlines()\n",
    "    # number of columns in each row is 28^2 = 784\n",
    "    X_test = [np.array(map(int, x.split(','))) for x in test_csv[1:]]\n",
    "print strftime(\"%Y-%m-%d %X\"), \"testing data loaded\"\n",
    "\n",
    "print len(X_given)"
   ]
  },
  {
   "cell_type": "code",
   "execution_count": 39,
   "metadata": {
    "collapsed": false
   },
   "outputs": [
    {
     "name": "stdout",
     "output_type": "stream",
     "text": [
      "2015-05-01 00:13:10 cross-validation loaded\n"
     ]
    }
   ],
   "source": [
    "# X_given = X_given[0:20000] # reduce data for tests\n",
    "# y_given = y_given[0:20000]\n",
    "\n",
    "X_train, X_validate, y_train, y_validate = cross_validation.train_test_split(X_given, y_given, test_size=0, random_state=0)\n",
    "print strftime(\"%Y-%m-%d %X\"), \"cross-validation loaded\""
   ]
  },
  {
   "cell_type": "code",
   "execution_count": 40,
   "metadata": {
    "collapsed": false
   },
   "outputs": [
    {
     "name": "stdout",
     "output_type": "stream",
     "text": [
      "2015-05-01 00:13:25 computed shift left data\n",
      "2015-05-01 00:13:39 computed shift right data\n"
     ]
    }
   ],
   "source": [
    "X_train_L = [np.reshape([list(row[1:28]) + [0] for row in np.reshape(i, [28, 28])], 28*28) for i in X_train]\n",
    "print strftime(\"%Y-%m-%d %X\"), \"computed shift left data\"\n",
    "X_train_R = [np.reshape([[0] + list(row[0:27]) for row in np.reshape(i, [28, 28])], 28*28) for i in X_train]\n",
    "print strftime(\"%Y-%m-%d %X\"), \"computed shift right data\"\n"
   ]
  },
  {
   "cell_type": "code",
   "execution_count": 41,
   "metadata": {
    "collapsed": false
   },
   "outputs": [
    {
     "name": "stdout",
     "output_type": "stream",
     "text": [
      "2015-05-01 00:13:41 computed shift up data\n",
      "2015-05-01 00:13:43 computed shift down data\n"
     ]
    }
   ],
   "source": [
    "X_train_U = [np.reshape(np.concatenate([np.reshape(i, [28, 28])[1:28], [np.array([0] * 28)]]), -1) for i in X_train]\n",
    "print strftime(\"%Y-%m-%d %X\"), \"computed shift up data\"\n",
    "X_train_D = [np.reshape(np.concatenate([[np.array([0] * 28)], np.reshape(i, [28, 28])[0:27]]), -1) for i in X_train]\n",
    "print strftime(\"%Y-%m-%d %X\"), \"computed shift down data\""
   ]
  },
  {
   "cell_type": "code",
   "execution_count": 42,
   "metadata": {
    "collapsed": false
   },
   "outputs": [
    {
     "name": "stdout",
     "output_type": "stream",
     "text": [
      "2015-05-01 00:13:59 computed shift left twice data\n",
      "2015-05-01 00:14:14 computed shift right twice data\n"
     ]
    }
   ],
   "source": [
    "# two to the left and two to the right\n",
    "X_train_LL = [np.reshape([list(row[1:28]) + [0] for row in np.reshape(i, [28, 28])], 28*28) for i in X_train_L]\n",
    "print strftime(\"%Y-%m-%d %X\"), \"computed shift left twice data\"\n",
    "X_train_RR = [np.reshape([[0] + list(row[0:27]) for row in np.reshape(i, [28, 28])], 28*28) for i in X_train_R]\n",
    "print strftime(\"%Y-%m-%d %X\"), \"computed shift right twice data\""
   ]
  },
  {
   "cell_type": "code",
   "execution_count": 43,
   "metadata": {
    "collapsed": false
   },
   "outputs": [
    {
     "name": "stdout",
     "output_type": "stream",
     "text": [
      "2015-05-01 00:14:16 computed shift up twice data\n",
      "2015-05-01 00:14:19 computed shift down twice data\n"
     ]
    }
   ],
   "source": [
    "X_train_UU = [np.reshape(np.concatenate([np.reshape(i, [28, 28])[1:28], [np.array([0] * 28)]]), -1) for i in X_train_U]\n",
    "print strftime(\"%Y-%m-%d %X\"), \"computed shift up twice data\"\n",
    "X_train_DD = [np.reshape(np.concatenate([[np.array([0] * 28)], np.reshape(i, [28, 28])[0:27]]), -1) for i in X_train_D]\n",
    "print strftime(\"%Y-%m-%d %X\"), \"computed shift down twice data\""
   ]
  },
  {
   "cell_type": "code",
   "execution_count": 44,
   "metadata": {
    "collapsed": false
   },
   "outputs": [
    {
     "name": "stdout",
     "output_type": "stream",
     "text": [
      "2015-05-01 00:14:19 added data\n"
     ]
    }
   ],
   "source": [
    "X_train_expanded = X_train + X_train_L + X_train_R + X_train_U + X_train_D + X_train_LL + X_train_RR + X_train_UU + X_train_DD\n",
    "y_train_expanded = y_train * 9\n",
    "print strftime(\"%Y-%m-%d %X\"), \"added data\""
   ]
  },
  {
   "cell_type": "code",
   "execution_count": 45,
   "metadata": {
    "collapsed": false
   },
   "outputs": [
    {
     "data": {
      "text/plain": [
       "(42000, 378000, 378000)"
      ]
     },
     "execution_count": 45,
     "metadata": {},
     "output_type": "execute_result"
    }
   ],
   "source": [
    "len(X_train), len(X_train_expanded), len(y_train_expanded)"
   ]
  },
  {
   "cell_type": "code",
   "execution_count": 49,
   "metadata": {
    "collapsed": false
   },
   "outputs": [
    {
     "name": "stdout",
     "output_type": "stream",
     "text": [
      "2015-05-01 05:20:55 PCA finished\n",
      "2015-05-01 05:21:01 knn finished\n"
     ]
    }
   ],
   "source": [
    "pca65 = decomposition.RandomizedPCA(n_components=65, whiten=False)\n",
    "X_transform65 = pca65.fit_transform(X_train_expanded)\n",
    "print strftime(\"%Y-%m-%d %X\"), \"PCA finished\"\n",
    "knn1 = neighbors.KNeighborsClassifier(n_neighbors=1)\n",
    "knn1.fit(X_transform65, y_train_expanded)\n",
    "print strftime(\"%Y-%m-%d %X\"), \"knn finished\"\n",
    "# z = knn1.predict(pca65.transform(X_validate))\n",
    "# print metrics.accuracy_score(y_validate, z)\n",
    "# print strftime(\"%Y-%m-%d %X\"), \"finished scoring\""
   ]
  },
  {
   "cell_type": "code",
   "execution_count": 50,
   "metadata": {
    "collapsed": false
   },
   "outputs": [
    {
     "name": "stdout",
     "output_type": "stream",
     "text": [
      "2015-05-01 05:29:48 predicted test data\n"
     ]
    }
   ],
   "source": [
    "z_test = knn1.predict(pca65.transform(X_test))\n",
    "print strftime(\"%Y-%m-%d %X\"), \"predicted test data\"\n"
   ]
  },
  {
   "cell_type": "code",
   "execution_count": 51,
   "metadata": {
    "collapsed": false
   },
   "outputs": [],
   "source": [
    "with open('pca_knn_with_translation_plus_shape_65.csv', 'w') as f:\n",
    "    f.write('ImageId,Label\\n')\n",
    "    for i in xrange(28000):\n",
    "        f.write(str(i+1) + ',' + str(z_test[i]) + '\\n')\n"
   ]
  },
  {
   "cell_type": "code",
   "execution_count": null,
   "metadata": {
    "collapsed": true
   },
   "outputs": [],
   "source": []
  }
 ],
 "metadata": {
  "kernelspec": {
   "display_name": "Python 2",
   "language": "python",
   "name": "python2"
  },
  "language_info": {
   "codemirror_mode": {
    "name": "ipython",
    "version": 2
   },
   "file_extension": ".py",
   "mimetype": "text/x-python",
   "name": "python",
   "nbconvert_exporter": "python",
   "pygments_lexer": "ipython2",
   "version": "2.7.9"
  }
 },
 "nbformat": 4,
 "nbformat_minor": 0
}
