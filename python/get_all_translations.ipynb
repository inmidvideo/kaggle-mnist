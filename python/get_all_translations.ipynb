{
 "cells": [
  {
   "cell_type": "code",
   "execution_count": 1,
   "metadata": {
    "collapsed": false
   },
   "outputs": [
    {
     "name": "stdout",
     "output_type": "stream",
     "text": [
      "2015-05-03 11:01:09 clock set\n"
     ]
    }
   ],
   "source": [
    "from time import strftime\n",
    "import numpy as np\n",
    "import matplotlib.pyplot as plt\n",
    "from sklearn import cross_validation, metrics, decomposition, neighbors\n",
    "print strftime(\"%Y-%m-%d %X\"), \"clock set\""
   ]
  },
  {
   "cell_type": "code",
   "execution_count": 2,
   "metadata": {
    "collapsed": false
   },
   "outputs": [
    {
     "name": "stdout",
     "output_type": "stream",
     "text": [
      "2015-05-03 11:01:40 given data loaded\n",
      "2015-05-03 11:02:03 testing data loaded\n",
      "42000\n"
     ]
    }
   ],
   "source": [
    "# load X_given and y_given\n",
    "with open('../data/train.csv') as f:\n",
    "    given_csv = f.readlines()\n",
    "    # number of columns in each row is 1 + 28^2 = 1 + 784\n",
    "    given_csv = [np.array(map(int, x.split(','))) for x in given_csv[1:]]\n",
    "    X_given_all = [x[1:] for x in given_csv]\n",
    "    y_given_all = [x[0] for x in given_csv]\n",
    "print strftime(\"%Y-%m-%d %X\"), \"given data loaded\"\n",
    "\n",
    "# load X_test\n",
    "with open('../data/test.csv') as f:\n",
    "    test_csv = f.readlines()\n",
    "    # number of columns in each row is 28^2 = 784\n",
    "    X_test = [np.array(map(int, x.split(','))) for x in test_csv[1:]]\n",
    "print strftime(\"%Y-%m-%d %X\"), \"testing data loaded\"\n",
    "\n",
    "print len(X_given_all)"
   ]
  },
  {
   "cell_type": "code",
   "execution_count": 3,
   "metadata": {
    "collapsed": false
   },
   "outputs": [
    {
     "name": "stdout",
     "output_type": "stream",
     "text": [
      "42000 out of 42000 givens loaded\n",
      "2015-05-03 11:02:03 cross-validation loaded\n"
     ]
    }
   ],
   "source": [
    "X_given = X_given_all[0:] # reduce data for tests?\n",
    "y_given = y_given_all[0:]\n",
    "print len(X_given), 'out of', len(X_given_all), 'givens loaded'\n",
    "\n",
    "X_train, X_validate, y_train, y_validate = cross_validation.train_test_split(X_given, y_given, test_size=0, random_state=0)\n",
    "print strftime(\"%Y-%m-%d %X\"), \"cross-validation loaded\""
   ]
  },
  {
   "cell_type": "code",
   "execution_count": 4,
   "metadata": {
    "collapsed": false
   },
   "outputs": [],
   "source": [
    "def appendAllTranslations(X_datum, y_datum, X_list, y_list):\n",
    "    firstRow, lastRow = 0, 27\n",
    "    firstColumn, lastColumn = 0, 27\n",
    "    X_datum = np.reshape(X_datum, [28, 28])\n",
    "    \n",
    "    while all(X_datum[firstRow, :] == 0):\n",
    "        firstRow += 1\n",
    "    while all(X_datum[lastRow, :] == 0):\n",
    "        lastRow -= 1\n",
    "    while all(X_datum[:, firstColumn] == 0):\n",
    "        firstColumn += 1\n",
    "    while all(X_datum[:, lastColumn] == 0):\n",
    "        lastColumn -= 1\n",
    "    \n",
    "    center = X_datum[firstRow:lastRow + 1, firstColumn:lastColumn + 1]\n",
    "    height = lastRow - firstRow + 1\n",
    "    width = lastColumn - firstColumn + 1\n",
    "    heightToPad = 28 - height\n",
    "    widthToPad = 28 - width\n",
    "    \n",
    "    for ii in xrange(1, heightToPad): # leave one white pixel on the edge\n",
    "        for jj in xrange(1, widthToPad):\n",
    "            X_list.append(np.reshape(np.pad(center, ((ii, heightToPad - ii), (jj, widthToPad - jj)), 'constant'), -1))\n",
    "            y_list.append(y_datum)\n",
    "    return\n",
    "\n",
    "# def appendAllTranslations(X_datum, y_datum, X_list, y_list):\n",
    "#     firstRow, lastRow = 0, 27\n",
    "#     firstColumn, lastColumn = 0, 27\n",
    "    \n",
    "#     X_list.append(X_datum)\n",
    "#     y_list.append(y_datum)\n",
    "    \n",
    "#     X_datum = np.reshape(X_datum, [28, 28])\n",
    "    \n",
    "#     while all(X_datum[firstRow, :] == 0):\n",
    "#         firstRow += 1\n",
    "#     while all(X_datum[lastRow, :] == 0):\n",
    "#         lastRow -= 1\n",
    "#     while all(X_datum[:, firstColumn] == 0):\n",
    "#         firstColumn += 1\n",
    "#     while all(X_datum[:, lastColumn] == 0):\n",
    "#         lastColumn -= 1\n",
    "\n",
    "#     if firstRow > 1:\n",
    "#         X_list.append(np.reshape(np.pad(X_datum[1:, :], ((0, 1), (0, 0)), 'constant'), -1))\n",
    "#         y_list.append(y_datum)\n",
    "#         if firstRow > 2:\n",
    "#             X_list.append(np.reshape(np.pad(X_datum[2:, :], ((0, 2), (0, 0)), 'constant'), -1))\n",
    "#             y_list.append(y_datum)\n",
    "#             if firstRow > 3:\n",
    "#                 X_list.append(np.reshape(np.pad(X_datum[3:, :], ((0, 3), (0, 0)), 'constant'), -1))\n",
    "#                 y_list.append(y_datum)\n",
    "#     if lastRow < 27:\n",
    "#         X_list.append(np.reshape(np.pad(X_datum[:27, :], ((1, 0), (0, 0)), 'constant'), -1))\n",
    "#         y_list.append(y_datum)\n",
    "#         if lastRow < 26:\n",
    "#             X_list.append(np.reshape(np.pad(X_datum[:26, :], ((2, 0), (0, 0)), 'constant'), -1))\n",
    "#             y_list.append(y_datum)\n",
    "#             if lastRow < 25:\n",
    "#                 X_list.append(np.reshape(np.pad(X_datum[:25, :], ((3, 0), (0, 0)), 'constant'), -1))\n",
    "#                 y_list.append(y_datum)\n",
    "#     if firstColumn > 1:\n",
    "#         X_list.append(np.reshape(np.pad(X_datum[:, 1:], ((0, 0), (0, 1)), 'constant'), -1))\n",
    "#         y_list.append(y_datum)\n",
    "#         if firstColumn > 2:\n",
    "#             X_list.append(np.reshape(np.pad(X_datum[:, 2:], ((0, 0), (0, 2)), 'constant'), -1))\n",
    "#             y_list.append(y_datum)\n",
    "#             if firstColumn > 3:\n",
    "#                 X_list.append(np.reshape(np.pad(X_datum[:, 3:], ((0, 0), (0, 3)), 'constant'), -1))\n",
    "#                 y_list.append(y_datum)\n",
    "#     if lastColumn < 27:\n",
    "#         X_list.append(np.reshape(np.pad(X_datum[:, :27], ((0, 0), (1, 0)), 'constant'), -1))\n",
    "#         y_list.append(y_datum)\n",
    "#         if lastColumn < 26:\n",
    "#             X_list.append(np.reshape(np.pad(X_datum[:, :26], ((0, 0), (2, 0)), 'constant'), -1))\n",
    "#             y_list.append(y_datum)\n",
    "#             if lastColumn < 25:\n",
    "#                 X_list.append(np.reshape(np.pad(X_datum[:, :25], ((0, 0), (3, 0)), 'constant'), -1))\n",
    "#                 y_list.append(y_datum)\n",
    "#     return"
   ]
  },
  {
   "cell_type": "code",
   "execution_count": 5,
   "metadata": {
    "collapsed": false
   },
   "outputs": [],
   "source": [
    "# %pylab inline\n",
    "# X_translations = []\n",
    "# y_translations = []\n",
    "# for i in xrange(1): # visualize this for one example\n",
    "#     appendAllTranslations(X_train[i], y_train[i], X_translations, y_translations)\n",
    "\n",
    "# # copied from examples \n",
    "# fig = plt.figure(figsize=(6, 6))  # figure size in inches\n",
    "# fig.subplots_adjust(left=0, right=1, bottom=0, top=1, hspace=0.05, wspace=0.05)\n",
    "\n",
    "# # plot the digits: each image is 8x8 pixels\n",
    "# for i in xrange(len(X_translations)):\n",
    "#     ax = fig.add_subplot(8, 8, i + 1, xticks=[], yticks=[])\n",
    "#     ax.imshow(X_translations[i].reshape(28, 28), cmap=plt.cm.binary, interpolation='nearest')"
   ]
  },
  {
   "cell_type": "code",
   "execution_count": 6,
   "metadata": {
    "collapsed": false
   },
   "outputs": [
    {
     "name": "stdout",
     "output_type": "stream",
     "text": [
      "42000\n",
      "2015-05-03 11:02:03 start\n",
      "0 100 200 300 400 500 600 700 800 900 1000 1100 1200 1300 1400 1500 1600 1700 1800 1900 2000 2100 2200 2300 2400 2500 2600 2700 2800 2900 3000 3100 3200 3300 3400 3500 3600 3700 3800 3900 4000 4100 4200 4300 4400 4500 4600 4700 4800 4900 5000 5100 5200 5300 5400 5500 5600 5700 5800 5900 6000 6100 6200 6300 6400 6500 6600 6700 6800 6900 7000 7100 7200 7300 7400 7500 7600 7700 7800 7900 8000 8100 8200 8300 8400 8500 8600 8700 8800 8900 9000 9100 9200 9300 9400 9500 9600 9700 9800 9900 10000 10100 10200 10300 10400 10500 10600 10700 10800 10900 11000 11100 11200 11300 11400 11500 11600 11700 11800 11900 12000 12100 12200 12300 12400 12500 12600 12700 12800 12900 13000 13100 13200 13300 13400 13500 13600 13700 13800 13900 14000 14100 14200 14300 14400 14500 14600 14700 14800 14900 15000 15100 15200 15300 15400 15500 15600 15700 15800 15900 16000 16100 16200 16300 16400 16500 16600 16700 16800 16900 17000 17100 17200 17300 17400 17500 17600 17700 17800 17900 18000 18100 18200 18300 18400 18500 18600 18700 18800 18900 19000 19100 19200 19300 19400 19500 19600 19700 19800 19900 20000 20100 20200 20300 20400 20500 20600 20700 20800 20900 21000 21100 21200 21300 21400 21500 21600 21700 21800 21900 22000 22100 22200 22300 22400 22500 22600 22700 22800 22900 23000 23100 23200 23300 23400 23500 23600 23700 23800 23900 24000 24100 24200 24300 24400 24500 24600 24700 24800 24900 25000 25100 25200 25300 25400 25500 25600 25700 25800 25900 26000 26100 26200 26300 26400 26500 26600 26700 26800 26900 27000 27100 27200 27300 27400 27500 27600 27700 27800 27900 28000 28100 28200 28300 28400 28500 28600 28700 28800 28900 29000 29100 29200 29300 29400 29500 29600 29700 29800 29900 30000 30100 30200 30300 30400 30500 30600 30700 30800 30900 31000 31100 31200 31300 31400 31500 31600 31700 31800 31900 32000 32100 32200 32300 32400 32500 32600 32700 32800 32900 33000 33100 33200 33300 33400 33500 33600 33700 33800 33900 34000 34100 34200 34300 34400 34500 34600 34700 34800 34900 35000 35100 35200 35300 35400 35500 35600 35700 35800 35900 36000 36100 36200 36300 36400 36500 36600 36700 36800 36900 37000 37100 37200 37300 37400 37500 37600 37700 37800 37900 38000 38100 38200 38300 38400 38500 38600 38700 38800 38900 39000 39100 39200 39300 39400 39500 39600 39700 39800 39900 40000 40100 40200 40300 40400 40500 40600 40700 40800 40900 41000 41100 41200 41300 41400 41500 41600 41700 41800 41900\n",
      "2015-05-03 11:09:54 end\n"
     ]
    },
    {
     "data": {
      "text/plain": [
       "(3406147, 3406147)"
      ]
     },
     "execution_count": 6,
     "metadata": {},
     "output_type": "execute_result"
    }
   ],
   "source": [
    "print len(X_train)\n",
    "print strftime(\"%Y-%m-%d %X\"), \"start\"\n",
    "X_translations = []\n",
    "y_translations = []\n",
    "for i in xrange(len(X_train)):\n",
    "    if i % 100 == 0: print i,\n",
    "    appendAllTranslations(X_train[i], y_train[i], X_translations, y_translations)\n",
    "print\n",
    "print strftime(\"%Y-%m-%d %X\"), \"end\"\n",
    "len(X_translations), len(y_translations)\n"
   ]
  },
  {
   "cell_type": "code",
   "execution_count": 10,
   "metadata": {
    "collapsed": false
   },
   "outputs": [
    {
     "name": "stdout",
     "output_type": "stream",
     "text": [
      "81.0987380952\n"
     ]
    }
   ],
   "source": [
    "print float(len(X_translations)) / len(X_train)"
   ]
  },
  {
   "cell_type": "code",
   "execution_count": 7,
   "metadata": {
    "collapsed": false
   },
   "outputs": [],
   "source": [
    "# print strftime(\"%Y-%m-%d %X\"), \"PCA starting\"\n",
    "# pca65 = decomposition.RandomizedPCA(n_components=65, whiten=False)\n",
    "# X_transform65 = pca65.fit_transform(X_translations)\n",
    "# print strftime(\"%Y-%m-%d %X\"), \"PCA finished\"\n",
    "# knn1 = neighbors.KNeighborsClassifier(n_neighbors=1)\n",
    "# knn1.fit(X_transform65, y_translations)\n",
    "# print strftime(\"%Y-%m-%d %X\"), \"knn finished\"\n",
    "# # z = knn1.predict(pca65.transform(X_validate))\n",
    "# # print metrics.accuracy_score(y_validate, z)\n",
    "# # print strftime(\"%Y-%m-%d %X\"), \"finished scoring\""
   ]
  },
  {
   "cell_type": "code",
   "execution_count": 8,
   "metadata": {
    "collapsed": false
   },
   "outputs": [],
   "source": [
    "# z_test = knn1.predict(pca65.transform(X_test))\n",
    "# print strftime(\"%Y-%m-%d %X\"), \"predicted test data\"\n"
   ]
  },
  {
   "cell_type": "code",
   "execution_count": 9,
   "metadata": {
    "collapsed": false
   },
   "outputs": [],
   "source": [
    "# with open('pca_rf_with_translation_plus_shape_3_65.csv', 'w') as f:\n",
    "#     f.write('ImageId,Label\\n')\n",
    "#     for i in xrange(28000):\n",
    "#         f.write(str(i+1) + ',' + str(z_test[i]) + '\\n')\n"
   ]
  }
 ],
 "metadata": {
  "kernelspec": {
   "display_name": "Python 2",
   "language": "python",
   "name": "python2"
  },
  "language_info": {
   "codemirror_mode": {
    "name": "ipython",
    "version": 2
   },
   "file_extension": ".py",
   "mimetype": "text/x-python",
   "name": "python",
   "nbconvert_exporter": "python",
   "pygments_lexer": "ipython2",
   "version": "2.7.9"
  }
 },
 "nbformat": 4,
 "nbformat_minor": 0
}
